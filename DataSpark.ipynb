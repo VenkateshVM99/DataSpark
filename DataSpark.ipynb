{
 "cells": [
  {
   "cell_type": "code",
   "execution_count": 1,
   "metadata": {},
   "outputs": [],
   "source": [
    "import pandas as pd"
   ]
  },
  {
   "cell_type": "code",
   "execution_count": 2,
   "metadata": {},
   "outputs": [],
   "source": [
    "da_dict = pd.read_csv(f'F:\\\\Guvi docs\\\\DataSpark\\\\Data_Dictionary.csv')\n",
    "df_sales = pd.read_csv(f'F:\\\\Guvi docs\\\\DataSpark\\\\Sales.csv')\n",
    "df_exchange = pd.read_csv(f'F:\\\\Guvi docs\\\\DataSpark\\\\Exchange_Rates.csv')\n",
    "df_stores = pd.read_csv(f'F:\\\\Guvi docs\\\\DataSpark\\\\Stores.csv')\n",
    "df_customers = pd.read_csv(f'F:\\\\Guvi docs\\\\DataSpark\\\\Customers.csv',encoding='latin1')\n",
    "df_products = pd.read_csv(f'F:\\\\Guvi docs\\\\DataSpark\\\\Products.csv')"
   ]
  },
  {
   "cell_type": "code",
   "execution_count": null,
   "metadata": {},
   "outputs": [],
   "source": [
    "'''where(pd.notna(df), None) is simple and efficient if you want a global transformation across the entire DataFrame to replace NaN with None.\n",
    "applymap is more flexible and allows you to apply custom functions element-wise if you need more control.\n",
    "fillna() is a quick option if you just want to replace NaN with None for specific columns.'''"
   ]
  },
  {
   "cell_type": "code",
   "execution_count": 67,
   "metadata": {},
   "outputs": [],
   "source": [
    "import pymysql\n",
    "\n",
    "def insert_table(df,table):\n",
    "    \n",
    "    #connect to the package using connection strings\n",
    "    host = 'localhost'       # Database host, e.g., 'localhost' or '127.0.0.1'\n",
    "    user = 'root'   # Your MySQL username\n",
    "    password = 'He007#W=Got765ked' # Your MySQL password\n",
    "    database = 'foundation' # The name of the database you want to connect to\n",
    "    connection = pymysql.connect(\n",
    "            host=host,\n",
    "            user=user,\n",
    "            password=password,\n",
    "            database=database\n",
    "        )\n",
    "\n",
    "    try:\n",
    "        cursor = connection.cursor()\n",
    "\n",
    "        # Dynamically extract column names and values from DataFrame\n",
    "        columns = df.columns.tolist()  # List of column names\n",
    "        values = df.values.tolist()    # List of row values as tuples\n",
    "\n",
    "        # Prepare the insert query dynamically\n",
    "        insert_query = f\"INSERT INTO {table} ({', '.join(columns)}) VALUES ({', '.join(['%s'] * len(columns))})\"\n",
    "\n",
    "        # Bulk insert the data\n",
    "        cursor.executemany(insert_query, values)\n",
    "\n",
    "        # Commit the changes to the database and close the connection\n",
    "        connection.commit()\n",
    "        cursor.close()\n",
    "        connection.close()\n",
    "\n",
    "        print(\"Data inserted successfully!\")\n",
    "\n",
    "    except Exception as e:\n",
    "        print(f\"Error in inserting the data in the table:{e}\")\n",
    "\n",
    "    return \n",
    "\n",
    "    "
   ]
  },
  {
   "cell_type": "code",
   "execution_count": null,
   "metadata": {},
   "outputs": [
    {
     "name": "stdout",
     "output_type": "stream",
     "text": [
      "<class 'pandas.core.frame.DataFrame'>\n",
      "RangeIndex: 15266 entries, 0 to 15265\n",
      "Data columns (total 10 columns):\n",
      " #   Column       Non-Null Count  Dtype         \n",
      "---  ------       --------------  -----         \n",
      " 0   CustomerKey  15266 non-null  int64         \n",
      " 1   Gender       15266 non-null  category      \n",
      " 2   Name         15266 non-null  object        \n",
      " 3   City         15266 non-null  object        \n",
      " 4   StateCode    15256 non-null  object        \n",
      " 5   State        15266 non-null  object        \n",
      " 6   ZipCode      15266 non-null  object        \n",
      " 7   Country      15266 non-null  object        \n",
      " 8   Continent    15266 non-null  category      \n",
      " 9   Birthday     15266 non-null  datetime64[ns]\n",
      "dtypes: category(2), datetime64[ns](1), int64(1), object(6)\n",
      "memory usage: 984.3+ KB\n",
      "Data inserted successfully!\n"
     ]
    }
   ],
   "source": [
    "df_customers['Birthday'] = pd.to_datetime(df_customers['Birthday'])\n",
    "df_customers['Gender'] = df_customers['Gender'].astype('category')\n",
    "df_customers['Continent'] = df_customers['Continent'].astype('category')\n",
    "\n",
    "#rename some columns\n",
    "df_customers = df_customers.rename(columns={'State Code': 'StateCode', 'Zip Code':'ZipCode'})\n",
    "df_customers = df_customers.where(pd.notna(df_customers),None)\n",
    "\n",
    "df_customers.info()\n",
    "df_customers.duplicated().sum()\n",
    "\n",
    "#insert into table\n",
    "insert_table(df_customers,\"customers\")\n"
   ]
  },
  {
   "cell_type": "markdown",
   "metadata": {},
   "source": [
    "#df_sales = df_sales.drop('Delivery Date', axis = 1)\n",
    "df_sales['Order Date'] = pd.to_datetime(df_sales['Order Date'])\n",
    "df_sales['Currency Code'] = df_sales['Currency Code'].astype('category')\n",
    "df_sales = df_sales.where(pd.notna(df_sales),None)\n",
    "df_sales.info()"
   ]
  },
  {
   "cell_type": "code",
   "execution_count": 71,
   "metadata": {},
   "outputs": [
    {
     "name": "stdout",
     "output_type": "stream",
     "text": [
      "<class 'pandas.core.frame.DataFrame'>\n",
      "RangeIndex: 11215 entries, 0 to 11214\n",
      "Data columns (total 3 columns):\n",
      " #   Column    Non-Null Count  Dtype         \n",
      "---  ------    --------------  -----         \n",
      " 0   Date      11215 non-null  datetime64[ns]\n",
      " 1   Currency  11215 non-null  category      \n",
      " 2   Exchange  11215 non-null  float64       \n",
      "dtypes: category(1), datetime64[ns](1), float64(1)\n",
      "memory usage: 186.5 KB\n",
      "Data inserted successfully!\n"
     ]
    }
   ],
   "source": [
    "df_exchange['Currency'] = df_exchange['Currency'].astype('category')\n",
    "\n",
    "df_exchange['Date'] = pd.to_datetime(df_exchange['Date'])\n",
    "df_exchange = df_exchange.where(pd.notna(df_exchange),None)\n",
    "\n",
    "df_exchange.columns = df_exchange.columns.str.replace(' ', '')\n",
    "df_exchange.info()\n",
    "\n",
    "insert_table(df_exchange,\"Exchange\")"
   ]
  },
  {
   "cell_type": "code",
   "execution_count": 88,
   "metadata": {},
   "outputs": [
    {
     "ename": "ValueError",
     "evalue": "Must specify a fill 'value' or 'method'.",
     "output_type": "error",
     "traceback": [
      "\u001b[1;31m---------------------------------------------------------------------------\u001b[0m",
      "\u001b[1;31mValueError\u001b[0m                                Traceback (most recent call last)",
      "Cell \u001b[1;32mIn[88], line 5\u001b[0m\n\u001b[0;32m      1\u001b[0m df_stores[\u001b[38;5;124m'\u001b[39m\u001b[38;5;124mOpen Date\u001b[39m\u001b[38;5;124m'\u001b[39m] \u001b[38;5;241m=\u001b[39m pd\u001b[38;5;241m.\u001b[39mto_datetime(df_stores[\u001b[38;5;124m'\u001b[39m\u001b[38;5;124mOpen Date\u001b[39m\u001b[38;5;124m'\u001b[39m])\n\u001b[0;32m      2\u001b[0m \u001b[38;5;66;03m#df_exchange.columns = df_exchange.columns.str.replace(' ', '')\u001b[39;00m\n\u001b[0;32m      3\u001b[0m \u001b[38;5;66;03m#df_stores['Square Meters'] = df_stores['Square Meters'].apply(lambda x: None if pd.isna(x) else x) \u001b[39;00m\n\u001b[1;32m----> 5\u001b[0m df_stores[\u001b[38;5;124m'\u001b[39m\u001b[38;5;124mSquare Meters\u001b[39m\u001b[38;5;124m'\u001b[39m] \u001b[38;5;241m=\u001b[39m \u001b[43mdf_stores\u001b[49m\u001b[43m[\u001b[49m\u001b[38;5;124;43m'\u001b[39;49m\u001b[38;5;124;43mSquare Meters\u001b[39;49m\u001b[38;5;124;43m'\u001b[39;49m\u001b[43m]\u001b[49m\u001b[38;5;241;43m.\u001b[39;49m\u001b[43mfillna\u001b[49m\u001b[43m(\u001b[49m\u001b[43mvalue\u001b[49m\u001b[43m \u001b[49m\u001b[38;5;241;43m=\u001b[39;49m\u001b[43m \u001b[49m\u001b[38;5;28;43;01mNone\u001b[39;49;00m\u001b[43m)\u001b[49m\n\u001b[0;32m      6\u001b[0m df_stores\u001b[38;5;241m.\u001b[39minfo()\n\u001b[0;32m      8\u001b[0m \u001b[38;5;28mprint\u001b[39m(df_stores)\n",
      "File \u001b[1;32mc:\\Users\\vmven\\AppData\\Local\\Programs\\Python\\Python312\\Lib\\site-packages\\pandas\\core\\generic.py:7293\u001b[0m, in \u001b[0;36mNDFrame.fillna\u001b[1;34m(self, value, method, axis, inplace, limit, downcast)\u001b[0m\n\u001b[0;32m   7286\u001b[0m         \u001b[38;5;28;01mif\u001b[39;00m ctr \u001b[38;5;241m<\u001b[39m\u001b[38;5;241m=\u001b[39m ref_count:\n\u001b[0;32m   7287\u001b[0m             warnings\u001b[38;5;241m.\u001b[39mwarn(\n\u001b[0;32m   7288\u001b[0m                 _chained_assignment_warning_method_msg,\n\u001b[0;32m   7289\u001b[0m                 \u001b[38;5;167;01mFutureWarning\u001b[39;00m,\n\u001b[0;32m   7290\u001b[0m                 stacklevel\u001b[38;5;241m=\u001b[39m\u001b[38;5;241m2\u001b[39m,\n\u001b[0;32m   7291\u001b[0m             )\n\u001b[1;32m-> 7293\u001b[0m value, method \u001b[38;5;241m=\u001b[39m \u001b[43mvalidate_fillna_kwargs\u001b[49m\u001b[43m(\u001b[49m\u001b[43mvalue\u001b[49m\u001b[43m,\u001b[49m\u001b[43m \u001b[49m\u001b[43mmethod\u001b[49m\u001b[43m)\u001b[49m\n\u001b[0;32m   7294\u001b[0m \u001b[38;5;28;01mif\u001b[39;00m method \u001b[38;5;129;01mis\u001b[39;00m \u001b[38;5;129;01mnot\u001b[39;00m \u001b[38;5;28;01mNone\u001b[39;00m:\n\u001b[0;32m   7295\u001b[0m     warnings\u001b[38;5;241m.\u001b[39mwarn(\n\u001b[0;32m   7296\u001b[0m         \u001b[38;5;124mf\u001b[39m\u001b[38;5;124m\"\u001b[39m\u001b[38;5;132;01m{\u001b[39;00m\u001b[38;5;28mtype\u001b[39m(\u001b[38;5;28mself\u001b[39m)\u001b[38;5;241m.\u001b[39m\u001b[38;5;18m__name__\u001b[39m\u001b[38;5;132;01m}\u001b[39;00m\u001b[38;5;124m.fillna with \u001b[39m\u001b[38;5;124m'\u001b[39m\u001b[38;5;124mmethod\u001b[39m\u001b[38;5;124m'\u001b[39m\u001b[38;5;124m is deprecated and \u001b[39m\u001b[38;5;124m\"\u001b[39m\n\u001b[0;32m   7297\u001b[0m         \u001b[38;5;124m\"\u001b[39m\u001b[38;5;124mwill raise in a future version. Use obj.ffill() or obj.bfill() \u001b[39m\u001b[38;5;124m\"\u001b[39m\n\u001b[1;32m   (...)\u001b[0m\n\u001b[0;32m   7300\u001b[0m         stacklevel\u001b[38;5;241m=\u001b[39mfind_stack_level(),\n\u001b[0;32m   7301\u001b[0m     )\n",
      "File \u001b[1;32mc:\\Users\\vmven\\AppData\\Local\\Programs\\Python\\Python312\\Lib\\site-packages\\pandas\\util\\_validators.py:293\u001b[0m, in \u001b[0;36mvalidate_fillna_kwargs\u001b[1;34m(value, method, validate_scalar_dict_value)\u001b[0m\n\u001b[0;32m    290\u001b[0m \u001b[38;5;28;01mfrom\u001b[39;00m \u001b[38;5;21;01mpandas\u001b[39;00m\u001b[38;5;21;01m.\u001b[39;00m\u001b[38;5;21;01mcore\u001b[39;00m\u001b[38;5;21;01m.\u001b[39;00m\u001b[38;5;21;01mmissing\u001b[39;00m \u001b[38;5;28;01mimport\u001b[39;00m clean_fill_method\n\u001b[0;32m    292\u001b[0m \u001b[38;5;28;01mif\u001b[39;00m value \u001b[38;5;129;01mis\u001b[39;00m \u001b[38;5;28;01mNone\u001b[39;00m \u001b[38;5;129;01mand\u001b[39;00m method \u001b[38;5;129;01mis\u001b[39;00m \u001b[38;5;28;01mNone\u001b[39;00m:\n\u001b[1;32m--> 293\u001b[0m     \u001b[38;5;28;01mraise\u001b[39;00m \u001b[38;5;167;01mValueError\u001b[39;00m(\u001b[38;5;124m\"\u001b[39m\u001b[38;5;124mMust specify a fill \u001b[39m\u001b[38;5;124m'\u001b[39m\u001b[38;5;124mvalue\u001b[39m\u001b[38;5;124m'\u001b[39m\u001b[38;5;124m or \u001b[39m\u001b[38;5;124m'\u001b[39m\u001b[38;5;124mmethod\u001b[39m\u001b[38;5;124m'\u001b[39m\u001b[38;5;124m.\u001b[39m\u001b[38;5;124m\"\u001b[39m)\n\u001b[0;32m    294\u001b[0m \u001b[38;5;28;01mif\u001b[39;00m value \u001b[38;5;129;01mis\u001b[39;00m \u001b[38;5;28;01mNone\u001b[39;00m \u001b[38;5;129;01mand\u001b[39;00m method \u001b[38;5;129;01mis\u001b[39;00m \u001b[38;5;129;01mnot\u001b[39;00m \u001b[38;5;28;01mNone\u001b[39;00m:\n\u001b[0;32m    295\u001b[0m     method \u001b[38;5;241m=\u001b[39m clean_fill_method(method)\n",
      "\u001b[1;31mValueError\u001b[0m: Must specify a fill 'value' or 'method'."
     ]
    }
   ],
   "source": [
    "\n",
    "df_stores['Open Date'] = pd.to_datetime(df_stores['Open Date'])\n",
    "#df_exchange.columns = df_exchange.columns.str.replace(' ', '')\n",
    "#df_stores['Square Meters'] = df_stores['Square Meters'].apply(lambda x: None if pd.isna(x) else x) \n",
    "\n",
    "df_stores['Square Meters'] = df_stores['Square Meters'].fillna(value = None)\n",
    "df_stores.info()\n",
    "\n",
    "print(df_stores)\n",
    "insert_table(df_stores,\"Stores\")"
   ]
  },
  {
   "cell_type": "code",
   "execution_count": 19,
   "metadata": {},
   "outputs": [
    {
     "name": "stdout",
     "output_type": "stream",
     "text": [
      "<class 'pandas.core.frame.DataFrame'>\n",
      "RangeIndex: 2517 entries, 0 to 2516\n",
      "Data columns (total 10 columns):\n",
      " #   Column          Non-Null Count  Dtype   \n",
      "---  ------          --------------  -----   \n",
      " 0   ProductKey      2517 non-null   int64   \n",
      " 1   Product Name    2517 non-null   object  \n",
      " 2   Brand           2517 non-null   object  \n",
      " 3   Color           2517 non-null   category\n",
      " 4   Unit Cost USD   2517 non-null   float64 \n",
      " 5   Unit Price USD  2517 non-null   float64 \n",
      " 6   SubcategoryKey  2517 non-null   int64   \n",
      " 7   Subcategory     2517 non-null   object  \n",
      " 8   CategoryKey     2517 non-null   int64   \n",
      " 9   Category        2517 non-null   object  \n",
      "dtypes: category(1), float64(2), int64(3), object(4)\n",
      "memory usage: 180.2+ KB\n"
     ]
    },
    {
     "data": {
      "text/plain": [
       "0        6.62\n",
       "1        6.62\n",
       "2        7.40\n",
       "3       11.00\n",
       "4       11.00\n",
       "        ...  \n",
       "2512    43.07\n",
       "2513    43.07\n",
       "2514     1.71\n",
       "2515     1.71\n",
       "2516     1.71\n",
       "Name: Unit Cost USD, Length: 2517, dtype: float64"
      ]
     },
     "execution_count": 19,
     "metadata": {},
     "output_type": "execute_result"
    }
   ],
   "source": [
    "df_products['Color'] = df_products['Color'].astype('category')\n",
    "df_products['Unit Cost USD'] = (df_products['Unit Cost USD'].astype(str)).str.replace(r'[^0-9.]', '', regex=True).astype(float)\n",
    "df_products['Unit Price USD'] = (df_products['Unit Price USD'].astype(str)).str.replace(r'[^0-9.]', '', regex=True).astype(float)\n",
    "#.str.replace(['$',','],'').astype(float)\n",
    "df_products.info()\n",
    "\n",
    "df_products['Color'].unique()\n",
    "df_products['Unit Cost USD']\n",
    "\n"
   ]
  },
  {
   "cell_type": "code",
   "execution_count": 8,
   "metadata": {},
   "outputs": [
    {
     "name": "stdout",
     "output_type": "stream",
     "text": [
      "Estabilized connection\n"
     ]
    }
   ],
   "source": [
    "#import pymysql package\n",
    "import pymysql\n",
    "\n",
    "#connect to the package using connection strings\n",
    "host = 'localhost'       # Database host, e.g., 'localhost' or '127.0.0.1'\n",
    "user = 'root'   # Your MySQL username\n",
    "password = 'He007#W=Got765ked' # Your MySQL password\n",
    "database = 'foundation' # The name of the database you want to connect to\n",
    "connection = pymysql.connect(\n",
    "        host=host,\n",
    "        user=user,\n",
    "        password=password,\n",
    "        database=database\n",
    "    )\n",
    "print(\"Estabilized connection\")\n",
    "connection.close()"
   ]
  },
  {
   "cell_type": "code",
   "execution_count": 64,
   "metadata": {},
   "outputs": [],
   "source": [
    "import pymysql\n",
    "\n",
    "def insert_table(df,table):\n",
    "    \n",
    "    #connect to the package using connection strings\n",
    "    host = 'localhost'       # Database host, e.g., 'localhost' or '127.0.0.1'\n",
    "    user = 'root'   # Your MySQL username\n",
    "    password = 'He007#W=Got765ked' # Your MySQL password\n",
    "    database = 'foundation' # The name of the database you want to connect to\n",
    "    connection = pymysql.connect(\n",
    "            host=host,\n",
    "            user=user,\n",
    "            password=password,\n",
    "            database=database\n",
    "        )\n",
    "\n",
    "    try:\n",
    "        cursor = connection.cursor()\n",
    "\n",
    "        # Dynamically extract column names and values from DataFrame\n",
    "        columns = df.columns.tolist()  # List of column names\n",
    "        values = df.values.tolist()    # List of row values as tuples\n",
    "\n",
    "        # Prepare the insert query dynamically\n",
    "        insert_query = f\"INSERT INTO {table} ({', '.join(columns)}) VALUES ({', '.join(['%s'] * len(columns))})\"\n",
    "\n",
    "        # Bulk insert the data\n",
    "        cursor.executemany(insert_query, values)\n",
    "\n",
    "        # Commit the changes to the database and close the connection\n",
    "        connection.commit()\n",
    "        cursor.close()\n",
    "        connection.close()\n",
    "\n",
    "        print(\"Data inserted successfully!\")\n",
    "\n",
    "    except Exception as e:\n",
    "        print(f\"Error in inserting the data in the table:{e}\")\n",
    "\n",
    "    return \n",
    "\n",
    "    "
   ]
  },
  {
   "cell_type": "code",
   "execution_count": 65,
   "metadata": {},
   "outputs": [
    {
     "name": "stdout",
     "output_type": "stream",
     "text": [
      "Data inserted successfully!\n"
     ]
    }
   ],
   "source": [
    "insert_table(df_customers,\"customers\")"
   ]
  }
 ],
 "metadata": {
  "kernelspec": {
   "display_name": "myenv",
   "language": "python",
   "name": "python3"
  },
  "language_info": {
   "codemirror_mode": {
    "name": "ipython",
    "version": 3
   },
   "file_extension": ".py",
   "mimetype": "text/x-python",
   "name": "python",
   "nbconvert_exporter": "python",
   "pygments_lexer": "ipython3",
   "version": "3.12.4"
  }
 },
 "nbformat": 4,
 "nbformat_minor": 2
}
